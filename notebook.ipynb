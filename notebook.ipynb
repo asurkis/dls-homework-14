{
 "metadata": {
  "language_info": {
   "codemirror_mode": {
    "name": "ipython",
    "version": 3
   },
   "file_extension": ".py",
   "mimetype": "text/x-python",
   "name": "python",
   "nbconvert_exporter": "python",
   "pygments_lexer": "ipython3",
   "version": "3.8.6-final"
  },
  "orig_nbformat": 2,
  "kernelspec": {
   "name": "python3",
   "display_name": "Python 3"
  }
 },
 "nbformat": 4,
 "nbformat_minor": 2,
 "cells": [
  {
   "cell_type": "code",
   "execution_count": null,
   "metadata": {},
   "outputs": [],
   "source": [
    "from pathlib import Path\n",
    "from sklearn.preprocessing import LabelEncoder\n",
    "import torch\n",
    "\n",
    "DEVICE = torch.device('cuda')\n",
    "\n",
    "INPUT_WIDTH = 224\n",
    "INPUT_HEIGHT = 224\n",
    "\n",
    "paths_labeled = list(Path('train/simpsons_dataset').glob('**/*.jpg'))\n",
    "paths_test = list(Path('testset/testset').glob('**/*.jpg'))\n",
    "\n",
    "label_encoder = LabelEncoder().fit([f.parent.name for f in paths_labeled])\n",
    "\n",
    "from torchvision import transforms\n",
    "\n",
    "pre_transforms = transforms.Compose([\n",
    "    transforms.Resize([224, 224]),\n",
    "    # transforms.CenterCrop(224),\n",
    "    transforms.ToTensor(),\n",
    "    transforms.Normalize((0.5, 0.5, 0.5), (0.5, 0.5, 0.5))])\n",
    "\n",
    "from sklearn.model_selection import train_test_split\n",
    "paths_train, paths_val = train_test_split(paths_labeled)\n",
    "\n",
    "from PIL import Image\n",
    "from torch.utils.data import Dataset, DataLoader\n",
    "import numpy as np\n",
    "import torchvision\n",
    "\n",
    "class SimpsonsDataset(Dataset):\n",
    "    def __init__(self, filepaths, has_labels=True):\n",
    "        super().__init__()\n",
    "        self.filepaths = sorted(filepaths)\n",
    "        self.has_labels = has_labels\n",
    "        self.labels = [label_encoder.transform([f.parent.name])[0] for f in self.filepaths] if has_labels else None\n",
    "\n",
    "    def __getitem__(self, index):\n",
    "        # Датасет с отражениями\n",
    "        img = Image.open(self.filepaths[index // 2])\n",
    "        if index % 2 == 1:\n",
    "            img = img.transpose(method=Image.FLIP_LEFT_RIGHT)\n",
    "        X = pre_transforms(img)\n",
    "        return (X, self.labels[index // 2]) if self.has_labels else X\n",
    "\n",
    "    def __len__(self):\n",
    "        # Датасет с отражениями\n",
    "        return 2 * len(self.filepaths)\n",
    "\n",
    "dataset_train = SimpsonsDataset(paths_train)\n",
    "dataset_val = SimpsonsDataset(paths_val)\n",
    "dataset_test = SimpsonsDataset(paths_test, has_labels=False)\n",
    "\n",
    "import matplotlib.pyplot as plt\n",
    "\n",
    "def imshow(img):\n",
    "    img = img / 2 + 0.5\n",
    "    npimg = img.numpy()\n",
    "    plt.imshow(np.transpose(npimg, (1, 2, 0)))\n",
    "    plt.show()"
   ]
  },
  {
   "cell_type": "code",
   "execution_count": null,
   "metadata": {},
   "outputs": [],
   "source": [
    "images, labels = iter(DataLoader(dataset_train, batch_size=4)).next()\n",
    "imshow(torchvision.utils.make_grid(images))\n",
    "print(label_encoder.inverse_transform(labels))"
   ]
  },
  {
   "cell_type": "code",
   "execution_count": null,
   "metadata": {},
   "outputs": [],
   "source": [
    "from tqdm import tqdm\n",
    "\n",
    "def train_one_epoch(model, data_loader, criterion, optimizer):\n",
    "    running_loss = 0.0\n",
    "    running_corrects = 0\n",
    "    processed_size = 0\n",
    "\n",
    "    model.train()\n",
    "    for x_batch, y_batch in tqdm(data_loader, 'train epoch batches'):\n",
    "        x_batch = x_batch.to(DEVICE)\n",
    "        y_batch = y_batch.to(DEVICE)\n",
    "\n",
    "        optimizer.zero_grad()\n",
    "        outputs = model(x_batch)\n",
    "        loss = criterion(outputs, y_batch)\n",
    "        loss.backward()\n",
    "        optimizer.step()\n",
    "\n",
    "        preds = torch.argmax(outputs, 1)\n",
    "        running_loss += loss.item() * x_batch.size(0)\n",
    "        running_corrects += torch.sum(preds == y_batch).item()\n",
    "        processed_size += x_batch.size(0)\n",
    "    \n",
    "    return running_loss / processed_size, running_corrects / processed_size"
   ]
  },
  {
   "cell_type": "code",
   "execution_count": null,
   "metadata": {},
   "outputs": [],
   "source": [
    "from tqdm import tqdm\n",
    "\n",
    "def validate_one_epoch(model, data_loader, criterion):\n",
    "    running_loss = 0.0\n",
    "    running_corrects = 0\n",
    "    processed_size = 0\n",
    "\n",
    "    model.eval()\n",
    "    with torch.no_grad():\n",
    "        for x_batch, y_batch in tqdm(data_loader, 'validate epoch batches'):\n",
    "            x_batch = x_batch.to(DEVICE)\n",
    "            y_batch = y_batch.to(DEVICE)\n",
    "\n",
    "            outputs = model(x_batch)\n",
    "            loss = criterion(outputs, y_batch)\n",
    "\n",
    "            preds = torch.argmax(outputs, 1)\n",
    "            running_loss += loss.item() * x_batch.size(0)\n",
    "            running_corrects += torch.sum(preds == y_batch).item()\n",
    "            processed_size += x_batch.size(0)\n",
    "    \n",
    "    return running_loss / processed_size, running_corrects / processed_size"
   ]
  },
  {
   "cell_type": "code",
   "execution_count": null,
   "metadata": {},
   "outputs": [],
   "source": [
    "from tqdm import tqdm\n",
    "\n",
    "def run_predict(model, data_loader):\n",
    "    logits = []\n",
    "    model.eval()\n",
    "    with torch.no_grad():\n",
    "        for x_batch in tqdm(data_loader, 'test epoch batches'):\n",
    "            x_batch = x_batch.to(DEVICE)\n",
    "            outputs = model(x_batch)\n",
    "            preds = torch.argmax(outputs, 1)\n",
    "            logits.append(preds)\n",
    "    \n",
    "    return torch.cat(logits)"
   ]
  },
  {
   "cell_type": "code",
   "execution_count": null,
   "metadata": {
    "tags": []
   },
   "outputs": [],
   "source": [
    "from torch import nn\n",
    "from torchvision import models\n",
    "\n",
    "model = models.alexnet(pretrained=True).to(DEVICE)\n",
    "model.classifier[6] = nn.Linear(4096, len(label_encoder.classes_)).to(DEVICE)\n",
    "for p in model.features[:-5].parameters():\n",
    "    p.requires_grad_(False)\n",
    "\n",
    "history = []\n",
    "optimizer = torch.optim.Adam(model.parameters())\n",
    "criterion = nn.CrossEntropyLoss()\n",
    "\n",
    "loader_train = DataLoader(dataset_train, batch_size=256, shuffle=True)\n",
    "loader_val = DataLoader(dataset_val, batch_size=256)\n",
    "\n",
    "for _ in tqdm(range(20), 'epochs'):\n",
    "    train_loss, train_acc = train_one_epoch(model, loader_train, criterion, optimizer)\n",
    "    val_loss, val_acc = validate_one_epoch(model, loader_val, criterion)\n",
    "    history.append((train_loss, train_acc, val_loss, val_acc))"
   ]
  },
  {
   "cell_type": "code",
   "execution_count": null,
   "metadata": {},
   "outputs": [],
   "source": [
    "train_loss, train_acc, val_loss, val_acc = zip(*history)\n",
    "\n",
    "plt.plot(train_loss, label='train_loss')\n",
    "plt.plot(val_loss, label='val_loss')\n",
    "plt.legend(loc='best')\n",
    "plt.show()\n",
    "\n",
    "plt.plot(train_acc, label='train_acc')\n",
    "plt.plot(val_acc, label='val_acc')\n",
    "plt.legend(loc='best')\n",
    "plt.show()"
   ]
  },
  {
   "cell_type": "code",
   "execution_count": null,
   "metadata": {},
   "outputs": [],
   "source": [
    "preds = run_predict(model, DataLoader(dataset_test, batch_size=256))"
   ]
  },
  {
   "cell_type": "code",
   "execution_count": null,
   "metadata": {},
   "outputs": [],
   "source": [
    "import pandas as pd\n",
    "pd.DataFrame({\n",
    "    'Id': [f.name for f in dataset_test.filepaths],\n",
    "    'Expected': label_encoder.inverse_transform(preds.cpu().numpy())\n",
    "}).to_csv('submission.csv', index=None)"
   ]
  }
 ]
}